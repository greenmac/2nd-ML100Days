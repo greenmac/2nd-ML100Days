{
 "cells": [
  {
   "cell_type": "markdown",
   "metadata": {},
   "source": [
    "## Work\n",
    "1. 試改變 monitor \"Validation Accuracy\" 並比較結果\n",
    "2. 調整 earlystop 的等待次數至 10, 25 並比較結果"
   ]
  },
  {
   "cell_type": "code",
   "execution_count": 1,
   "metadata": {},
   "outputs": [
    {
     "name": "stderr",
     "output_type": "stream",
     "text": [
      "Using TensorFlow backend.\n"
     ]
    }
   ],
   "source": [
    "import os\n",
    "import keras\n",
    "import matplotlib.pyplot as plt\n",
    "%matplotlib inline\n",
    "\n",
    "\n",
    "# Disable GPU\n",
    "os.environ[\"CUDA_VISIBLE_DEVICES\"] = \"\""
   ]
  },
  {
   "cell_type": "code",
   "execution_count": 2,
   "metadata": {},
   "outputs": [],
   "source": [
    "train, test = keras.datasets.cifar10.load_data()"
   ]
  },
  {
   "cell_type": "code",
   "execution_count": 3,
   "metadata": {},
   "outputs": [],
   "source": [
    "## 資料前處理\n",
    "def preproc_x(x, flatten=True):\n",
    "    x = x / 255.\n",
    "    if flatten:\n",
    "        x = x.reshape((len(x), -1))\n",
    "    return x\n",
    "\n",
    "def preproc_y(y, num_classes=10):\n",
    "    if y.shape[-1] == 1:\n",
    "        y = keras.utils.to_categorical(y, num_classes)\n",
    "    return y    "
   ]
  },
  {
   "cell_type": "code",
   "execution_count": 4,
   "metadata": {},
   "outputs": [],
   "source": [
    "x_train, y_train = train\n",
    "x_test, y_test = test\n",
    "\n",
    "# Preproc the inputs\n",
    "x_train = preproc_x(x_train)\n",
    "x_test = preproc_x(x_test)\n",
    "\n",
    "# Preprc the outputs\n",
    "y_train = preproc_y(y_train)\n",
    "y_test = preproc_y(y_test)"
   ]
  },
  {
   "cell_type": "code",
   "execution_count": 5,
   "metadata": {},
   "outputs": [],
   "source": [
    "from keras.layers import BatchNormalization\n",
    "\n",
    "\"\"\"\n",
    "建立神經網路，並加入 BN layer\n",
    "\"\"\"\n",
    "def build_mlp(input_shape, output_units=10, num_neurons=[512, 256, 128]):\n",
    "    input_layer = keras.layers.Input(input_shape)\n",
    "    \n",
    "    for i, n_units in enumerate(num_neurons):\n",
    "        if i == 0:\n",
    "            x = keras.layers.Dense(units=n_units, \n",
    "                                   activation=\"relu\", \n",
    "                                   name=\"hidden_layer\"+str(i+1))(input_layer)\n",
    "            x = BatchNormalization()(x)\n",
    "        else:\n",
    "            x = keras.layers.Dense(units=n_units, \n",
    "                                   activation=\"relu\", \n",
    "                                   name=\"hidden_layer\"+str(i+1))(x)\n",
    "            x = BatchNormalization()(x)\n",
    "    \n",
    "    out = keras.layers.Dense(units=output_units, activation=\"softmax\", name=\"output\")(x)\n",
    "    \n",
    "    model = keras.models.Model(inputs=[input_layer], outputs=[out])\n",
    "    return model"
   ]
  },
  {
   "cell_type": "code",
   "execution_count": 6,
   "metadata": {},
   "outputs": [],
   "source": [
    "\"\"\"Code Here\n",
    "設定超參數\n",
    "\"\"\"\n",
    "LEARNING_RATE = 1e-3\n",
    "EPOCHS = 50\n",
    "BATCH_SIZE = 1024\n",
    "MOMENTUM = 0.95"
   ]
  },
  {
   "cell_type": "code",
   "execution_count": 7,
   "metadata": {},
   "outputs": [
    {
     "name": "stdout",
     "output_type": "stream",
     "text": [
      "_________________________________________________________________\n",
      "Layer (type)                 Output Shape              Param #   \n",
      "=================================================================\n",
      "input_1 (InputLayer)         (None, 3072)              0         \n",
      "_________________________________________________________________\n",
      "hidden_layer1 (Dense)        (None, 512)               1573376   \n",
      "_________________________________________________________________\n",
      "batch_normalization_1 (Batch (None, 512)               2048      \n",
      "_________________________________________________________________\n",
      "hidden_layer2 (Dense)        (None, 256)               131328    \n",
      "_________________________________________________________________\n",
      "batch_normalization_2 (Batch (None, 256)               1024      \n",
      "_________________________________________________________________\n",
      "hidden_layer3 (Dense)        (None, 128)               32896     \n",
      "_________________________________________________________________\n",
      "batch_normalization_3 (Batch (None, 128)               512       \n",
      "_________________________________________________________________\n",
      "output (Dense)               (None, 10)                1290      \n",
      "=================================================================\n",
      "Total params: 1,742,474\n",
      "Trainable params: 1,740,682\n",
      "Non-trainable params: 1,792\n",
      "_________________________________________________________________\n",
      "Train on 50000 samples, validate on 10000 samples\n",
      "Epoch 1/50\n",
      "50000/50000 [==============================] - 6s 129us/step - loss: 2.2354 - acc: 0.2730 - val_loss: 2.2531 - val_acc: 0.3085\n",
      "Epoch 2/50\n",
      " 1024/50000 [..............................] - ETA: 4s - loss: 1.8505 - acc: 0.382"
     ]
    },
    {
     "name": "stderr",
     "output_type": "stream",
     "text": [
      "c:\\users\\alway\\appdata\\local\\programs\\python\\python36\\lib\\site-packages\\keras\\callbacks.py:569: RuntimeWarning: Early stopping conditioned on metric `val_Accuracy` which is not available. Available metrics are: val_loss,val_acc,loss,acc\n",
      "  (self.monitor, ','.join(list(logs.keys()))), RuntimeWarning\n"
     ]
    },
    {
     "name": "stdout",
     "output_type": "stream",
     "text": [
      "50000/50000 [==============================] - 6s 114us/step - loss: 1.7349 - acc: 0.3984 - val_loss: 1.8280 - val_acc: 0.3761\n",
      "Epoch 3/50\n",
      "50000/50000 [==============================] - 6s 119us/step - loss: 1.6135 - acc: 0.4378 - val_loss: 1.6817 - val_acc: 0.4125\n",
      "Epoch 4/50\n",
      "50000/50000 [==============================] - 6s 124us/step - loss: 1.5419 - acc: 0.4617 - val_loss: 1.6408 - val_acc: 0.4196\n",
      "Epoch 5/50\n",
      "50000/50000 [==============================] - 6s 127us/step - loss: 1.4889 - acc: 0.4798 - val_loss: 1.6122 - val_acc: 0.4295\n",
      "Epoch 6/50\n",
      "50000/50000 [==============================] - 6s 117us/step - loss: 1.4446 - acc: 0.4953 - val_loss: 1.5726 - val_acc: 0.4441\n",
      "Epoch 7/50\n",
      "50000/50000 [==============================] - 6s 119us/step - loss: 1.4068 - acc: 0.5079 - val_loss: 1.5404 - val_acc: 0.4603\n",
      "Epoch 8/50\n",
      "50000/50000 [==============================] - 6s 126us/step - loss: 1.3718 - acc: 0.5204 - val_loss: 1.5192 - val_acc: 0.4607\n",
      "Epoch 9/50\n",
      "50000/50000 [==============================] - 8s 157us/step - loss: 1.3398 - acc: 0.5330 - val_loss: 1.5009 - val_acc: 0.4702\n",
      "Epoch 10/50\n",
      "50000/50000 [==============================] - 6s 123us/step - loss: 1.3100 - acc: 0.5449 - val_loss: 1.4942 - val_acc: 0.4745\n",
      "Epoch 11/50\n",
      "50000/50000 [==============================] - 6s 123us/step - loss: 1.2840 - acc: 0.5533 - val_loss: 1.4805 - val_acc: 0.4780\n",
      "Epoch 12/50\n",
      "50000/50000 [==============================] - 6s 118us/step - loss: 1.2571 - acc: 0.5634 - val_loss: 1.4808 - val_acc: 0.4814\n",
      "Epoch 13/50\n",
      "50000/50000 [==============================] - 6s 120us/step - loss: 1.2305 - acc: 0.5750 - val_loss: 1.4819 - val_acc: 0.4787\n",
      "Epoch 14/50\n",
      "50000/50000 [==============================] - 6s 120us/step - loss: 1.2058 - acc: 0.5822 - val_loss: 1.4643 - val_acc: 0.4823\n",
      "Epoch 15/50\n",
      "50000/50000 [==============================] - 6s 128us/step - loss: 1.1833 - acc: 0.5903 - val_loss: 1.4596 - val_acc: 0.4867\n",
      "Epoch 16/50\n",
      "50000/50000 [==============================] - 8s 154us/step - loss: 1.1616 - acc: 0.5998 - val_loss: 1.4631 - val_acc: 0.4860\n",
      "Epoch 17/50\n",
      "50000/50000 [==============================] - 7s 133us/step - loss: 1.1378 - acc: 0.6085 - val_loss: 1.4566 - val_acc: 0.4890\n",
      "Epoch 18/50\n",
      "50000/50000 [==============================] - 6s 115us/step - loss: 1.1171 - acc: 0.6168 - val_loss: 1.4583 - val_acc: 0.4869\n",
      "Epoch 19/50\n",
      "50000/50000 [==============================] - 6s 115us/step - loss: 1.0928 - acc: 0.6249 - val_loss: 1.4427 - val_acc: 0.4914\n",
      "Epoch 20/50\n",
      "50000/50000 [==============================] - 6s 117us/step - loss: 1.0718 - acc: 0.6347 - val_loss: 1.4483 - val_acc: 0.4934\n",
      "Epoch 21/50\n",
      "50000/50000 [==============================] - 6s 126us/step - loss: 1.0535 - acc: 0.6403 - val_loss: 1.4443 - val_acc: 0.4963\n",
      "Epoch 22/50\n",
      "50000/50000 [==============================] - 6s 125us/step - loss: 1.0315 - acc: 0.6509 - val_loss: 1.4516 - val_acc: 0.4971\n",
      "Epoch 23/50\n",
      "50000/50000 [==============================] - 6s 124us/step - loss: 1.0105 - acc: 0.6577 - val_loss: 1.4391 - val_acc: 0.4945\n",
      "Epoch 24/50\n",
      "50000/50000 [==============================] - 6s 128us/step - loss: 0.9910 - acc: 0.6645 - val_loss: 1.4569 - val_acc: 0.4912\n",
      "Epoch 25/50\n",
      "50000/50000 [==============================] - 6s 127us/step - loss: 0.9701 - acc: 0.6743 - val_loss: 1.4484 - val_acc: 0.4958\n",
      "Epoch 26/50\n",
      "50000/50000 [==============================] - 7s 131us/step - loss: 0.9505 - acc: 0.6820 - val_loss: 1.4674 - val_acc: 0.4918\n",
      "Epoch 27/50\n",
      "50000/50000 [==============================] - 6s 121us/step - loss: 0.9301 - acc: 0.6887 - val_loss: 1.4610 - val_acc: 0.4944\n",
      "Epoch 28/50\n",
      "50000/50000 [==============================] - 6s 115us/step - loss: 0.9096 - acc: 0.6966 - val_loss: 1.4738 - val_acc: 0.4922\n",
      "Epoch 29/50\n",
      "50000/50000 [==============================] - 6s 121us/step - loss: 0.8901 - acc: 0.7027 - val_loss: 1.4653 - val_acc: 0.4994\n",
      "Epoch 30/50\n",
      "50000/50000 [==============================] - 6s 113us/step - loss: 0.8697 - acc: 0.7133 - val_loss: 1.4670 - val_acc: 0.4932\n",
      "Epoch 31/50\n",
      "50000/50000 [==============================] - 6s 126us/step - loss: 0.8524 - acc: 0.7200 - val_loss: 1.4863 - val_acc: 0.4950\n",
      "Epoch 32/50\n",
      "50000/50000 [==============================] - 9s 176us/step - loss: 0.8322 - acc: 0.7288 - val_loss: 1.4788 - val_acc: 0.4941\n",
      "Epoch 33/50\n",
      "50000/50000 [==============================] - 6s 121us/step - loss: 0.8140 - acc: 0.7345 - val_loss: 1.4992 - val_acc: 0.4918\n",
      "Epoch 34/50\n",
      "50000/50000 [==============================] - 6s 120us/step - loss: 0.7945 - acc: 0.7417 - val_loss: 1.5095 - val_acc: 0.4936\n",
      "Epoch 35/50\n",
      "50000/50000 [==============================] - 6s 120us/step - loss: 0.7762 - acc: 0.7491 - val_loss: 1.5175 - val_acc: 0.4903\n",
      "Epoch 36/50\n",
      "50000/50000 [==============================] - 6s 121us/step - loss: 0.7571 - acc: 0.7564 - val_loss: 1.5078 - val_acc: 0.4959\n",
      "Epoch 37/50\n",
      "50000/50000 [==============================] - 6s 123us/step - loss: 0.7397 - acc: 0.7638 - val_loss: 1.5157 - val_acc: 0.4955\n",
      "Epoch 38/50\n",
      "50000/50000 [==============================] - 6s 123us/step - loss: 0.7224 - acc: 0.7716 - val_loss: 1.5496 - val_acc: 0.4923\n",
      "Epoch 39/50\n",
      "50000/50000 [==============================] - 6s 121us/step - loss: 0.7025 - acc: 0.7789 - val_loss: 1.5291 - val_acc: 0.4990\n",
      "Epoch 40/50\n",
      "50000/50000 [==============================] - 6s 123us/step - loss: 0.6827 - acc: 0.7869 - val_loss: 1.5664 - val_acc: 0.4863\n",
      "Epoch 41/50\n",
      "50000/50000 [==============================] - 8s 169us/step - loss: 0.6662 - acc: 0.7952 - val_loss: 1.5499 - val_acc: 0.4955\n",
      "Epoch 42/50\n",
      "50000/50000 [==============================] - 10s 202us/step - loss: 0.6503 - acc: 0.7986 - val_loss: 1.5896 - val_acc: 0.4898\n",
      "Epoch 43/50\n",
      "50000/50000 [==============================] - 11s 216us/step - loss: 0.6315 - acc: 0.8065 - val_loss: 1.5798 - val_acc: 0.4880\n",
      "Epoch 44/50\n",
      "50000/50000 [==============================] - 10s 205us/step - loss: 0.6121 - acc: 0.8152 - val_loss: 1.5900 - val_acc: 0.4918\n",
      "Epoch 45/50\n",
      "50000/50000 [==============================] - 10s 205us/step - loss: 0.5958 - acc: 0.8217 - val_loss: 1.6075 - val_acc: 0.4894\n",
      "Epoch 46/50\n",
      "50000/50000 [==============================] - 10s 198us/step - loss: 0.5792 - acc: 0.8278 - val_loss: 1.6093 - val_acc: 0.4917\n",
      "Epoch 47/50\n",
      "50000/50000 [==============================] - 10s 203us/step - loss: 0.5637 - acc: 0.8352 - val_loss: 1.6186 - val_acc: 0.4926\n",
      "Epoch 48/50\n",
      "50000/50000 [==============================] - 9s 190us/step - loss: 0.5482 - acc: 0.8403 - val_loss: 1.6501 - val_acc: 0.4826\n",
      "Epoch 49/50\n",
      "50000/50000 [==============================] - 8s 156us/step - loss: 0.5298 - acc: 0.8482 - val_loss: 1.6715 - val_acc: 0.4862\n",
      "Epoch 50/50\n",
      "50000/50000 [==============================] - 8s 170us/step - loss: 0.5141 - acc: 0.8537 - val_loss: 1.6580 - val_acc: 0.4861\n"
     ]
    }
   ],
   "source": [
    "# 載入 Callbacks\n",
    "\"\"\"Code Here\n",
    "設定 callbacks: Earlystop\n",
    "\"\"\"\n",
    "from keras.callbacks import EarlyStopping\n",
    "\n",
    "earlystop = EarlyStopping(monitor=\"val_Accuracy\", \n",
    "                          patience=5, \n",
    "                          verbose=1\n",
    "                          )\n",
    "results = {}\n",
    "\"\"\"Code Here\n",
    "撰寫你的訓練流程並將結果用 dictionary 紀錄\n",
    "\"\"\"\n",
    "model = build_mlp(input_shape=x_train.shape[1:])\n",
    "model.summary()\n",
    "optimizer = keras.optimizers.SGD(lr=LEARNING_RATE, nesterov=True, momentum=MOMENTUM)\n",
    "model.compile(loss=\"categorical_crossentropy\", metrics=[\"accuracy\"], optimizer=optimizer)\n",
    "\n",
    "model.fit(x_train, y_train, \n",
    "          epochs=EPOCHS, \n",
    "          batch_size=BATCH_SIZE, \n",
    "          validation_data=(x_test, y_test), \n",
    "          shuffle=True,\n",
    "          callbacks=[earlystop]\n",
    "         )\n",
    "\n",
    "# Collect results\n",
    "train_loss = model.history.history[\"loss\"]\n",
    "valid_loss = model.history.history[\"val_loss\"]\n",
    "train_acc = model.history.history[\"acc\"]\n",
    "valid_acc = model.history.history[\"val_acc\"]"
   ]
  },
  {
   "cell_type": "code",
   "execution_count": 8,
   "metadata": {},
   "outputs": [
    {
     "data": {
      "image/png": "[encoded data removed]",
      "text/plain": [
       "<Figure size 432x288 with 1 Axes>"
      ]
     },
     "metadata": {
      "needs_background": "light"
     },
     "output_type": "display_data"
    },
    {
     "data": {
      "image/png": "[encoded data removed]",
      "text/plain": [
       "<Figure size 432x288 with 1 Axes>"
      ]
     },
     "metadata": {
      "needs_background": "light"
     },
     "output_type": "display_data"
    }
   ],
   "source": [
    "\"\"\"Code Here\n",
    "將結果繪出\n",
    "\"\"\"\n",
    "import matplotlib.pyplot as plt\n",
    "%matplotlib inline\n",
    "\n",
    "plt.plot(range(len(train_loss)), train_loss, label=\"train loss\")\n",
    "plt.plot(range(len(valid_loss)), valid_loss, label=\"valid loss\")\n",
    "plt.legend()\n",
    "plt.title(\"Loss\")\n",
    "plt.show()\n",
    "\n",
    "plt.plot(range(len(train_acc)), train_acc, label=\"train accuracy\")\n",
    "plt.plot(range(len(valid_acc)), valid_acc, label=\"valid accuracy\")\n",
    "plt.legend()\n",
    "plt.title(\"Accuracy\")\n",
    "plt.show()"
   ]
  },
  {
   "cell_type": "code",
   "execution_count": null,
   "metadata": {},
   "outputs": [],
   "source": []
  }
 ],
 "metadata": {
  "kernelspec": {
   "display_name": "Python 3",
   "language": "python",
   "name": "python3"
  },
  "language_info": {
   "codemirror_mode": {
    "name": "ipython",
    "version": 3
   },
   "file_extension": ".py",
   "mimetype": "text/x-python",
   "name": "python",
   "nbconvert_exporter": "python",
   "pygments_lexer": "ipython3",
   "version": "3.6.7"
  }
 },
 "nbformat": 4,
 "nbformat_minor": 2
}
