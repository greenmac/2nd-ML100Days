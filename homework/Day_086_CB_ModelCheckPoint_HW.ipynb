{
 "cells": [
  {
   "cell_type": "markdown",
   "metadata": {},
   "source": [
    "## Work\n",
    "1. 試比較 save_best_only 與否的差異\n",
    "2. 請僅存入將 save_weights_only 設定為 True, 並嘗試 reset ipynb 並將模型與權重重新建回並預測 x_test"
   ]
  },
  {
   "cell_type": "code",
   "execution_count": 1,
   "metadata": {},
   "outputs": [
    {
     "name": "stderr",
     "output_type": "stream",
     "text": [
      "Using TensorFlow backend.\n"
     ]
    }
   ],
   "source": [
    "import os\n",
    "import keras\n",
    "\n",
    "# Disable GPU\n",
    "os.environ[\"CUDA_VISIBLE_DEVICES\"] = \"\""
   ]
  },
  {
   "cell_type": "code",
   "execution_count": 2,
   "metadata": {},
   "outputs": [],
   "source": [
    "train, test = keras.datasets.cifar10.load_data()"
   ]
  },
  {
   "cell_type": "code",
   "execution_count": 3,
   "metadata": {},
   "outputs": [],
   "source": [
    "## 資料前處理\n",
    "def preproc_x(x, flatten=True):\n",
    "    x = x / 255.\n",
    "    if flatten:\n",
    "        x = x.reshape((len(x), -1))\n",
    "    return x\n",
    "\n",
    "def preproc_y(y, num_classes=10):\n",
    "    if y.shape[-1] == 1:\n",
    "        y = keras.utils.to_categorical(y, num_classes)\n",
    "    return y    "
   ]
  },
  {
   "cell_type": "code",
   "execution_count": 4,
   "metadata": {},
   "outputs": [],
   "source": [
    "x_train, y_train = train\n",
    "x_test, y_test = test\n",
    "\n",
    "# Preproc the inputs\n",
    "x_train = preproc_x(x_train)\n",
    "x_test = preproc_x(x_test)\n",
    "\n",
    "# Preprc the outputs\n",
    "y_train = preproc_y(y_train)\n",
    "y_test = preproc_y(y_test)"
   ]
  },
  {
   "cell_type": "code",
   "execution_count": 5,
   "metadata": {},
   "outputs": [],
   "source": [
    "from keras.layers import BatchNormalization\n",
    "\n",
    "\"\"\"\n",
    "建立神經網路，並加入 BN layer\n",
    "\"\"\"\n",
    "def build_mlp(input_shape, output_units=10, num_neurons=[512, 256, 128]):\n",
    "    input_layer = keras.layers.Input(input_shape)\n",
    "    \n",
    "    for i, n_units in enumerate(num_neurons):\n",
    "        if i == 0:\n",
    "            x = keras.layers.Dense(units=n_units, \n",
    "                                   activation=\"relu\", \n",
    "                                   name=\"hidden_layer\"+str(i+1))(input_layer)\n",
    "            x = BatchNormalization()(x)\n",
    "        else:\n",
    "            x = keras.layers.Dense(units=n_units, \n",
    "                                   activation=\"relu\", \n",
    "                                   name=\"hidden_layer\"+str(i+1))(x)\n",
    "            x = BatchNormalization()(x)\n",
    "    \n",
    "    out = keras.layers.Dense(units=output_units, activation=\"softmax\", name=\"output\")(x)\n",
    "    \n",
    "    model = keras.models.Model(inputs=[input_layer], outputs=[out])\n",
    "    return model"
   ]
  },
  {
   "cell_type": "code",
   "execution_count": 6,
   "metadata": {},
   "outputs": [],
   "source": [
    "\"\"\"Code Here\n",
    "設定超參數\n",
    "\"\"\"\n",
    "LEARNING_RATE = 1e-3\n",
    "EPOCHS = 50\n",
    "BATCH_SIZE = 1024\n",
    "MOMENTUM = 0.95"
   ]
  },
  {
   "cell_type": "code",
   "execution_count": 7,
   "metadata": {},
   "outputs": [
    {
     "name": "stdout",
     "output_type": "stream",
     "text": [
      "_________________________________________________________________\n",
      "Layer (type)                 Output Shape              Param #   \n",
      "=================================================================\n",
      "input_1 (InputLayer)         (None, 3072)              0         \n",
      "_________________________________________________________________\n",
      "hidden_layer1 (Dense)        (None, 512)               1573376   \n",
      "_________________________________________________________________\n",
      "batch_normalization_1 (Batch (None, 512)               2048      \n",
      "_________________________________________________________________\n",
      "hidden_layer2 (Dense)        (None, 256)               131328    \n",
      "_________________________________________________________________\n",
      "batch_normalization_2 (Batch (None, 256)               1024      \n",
      "_________________________________________________________________\n",
      "hidden_layer3 (Dense)        (None, 128)               32896     \n",
      "_________________________________________________________________\n",
      "batch_normalization_3 (Batch (None, 128)               512       \n",
      "_________________________________________________________________\n",
      "output (Dense)               (None, 10)                1290      \n",
      "=================================================================\n",
      "Total params: 1,742,474\n",
      "Trainable params: 1,740,682\n",
      "Non-trainable params: 1,792\n",
      "_________________________________________________________________\n",
      "Train on 50000 samples, validate on 10000 samples\n",
      "Epoch 1/50\n",
      "50000/50000 [==============================] - 7s 136us/step - loss: 2.2298 - acc: 0.2669 - val_loss: 2.1242 - val_acc: 0.3237\n",
      "Epoch 2/50\n",
      "50000/50000 [==============================] - 6s 116us/step - loss: 1.7488 - acc: 0.3929 - val_loss: 1.8040 - val_acc: 0.3801\n",
      "Epoch 3/50\n",
      "50000/50000 [==============================] - 6s 117us/step - loss: 1.6214 - acc: 0.4363 - val_loss: 1.6937 - val_acc: 0.4060\n",
      "Epoch 4/50\n",
      "50000/50000 [==============================] - 6s 115us/step - loss: 1.5455 - acc: 0.4629 - val_loss: 1.6331 - val_acc: 0.4337\n",
      "Epoch 5/50\n",
      "50000/50000 [==============================] - 6s 116us/step - loss: 1.4902 - acc: 0.4842 - val_loss: 1.5869 - val_acc: 0.4440\n",
      "Epoch 6/50\n",
      "50000/50000 [==============================] - 6s 127us/step - loss: 1.4457 - acc: 0.4979 - val_loss: 1.5644 - val_acc: 0.4507\n",
      "Epoch 7/50\n",
      "50000/50000 [==============================] - 6s 120us/step - loss: 1.4069 - acc: 0.5119 - val_loss: 1.5372 - val_acc: 0.4598\n",
      "Epoch 8/50\n",
      "50000/50000 [==============================] - 6s 125us/step - loss: 1.3731 - acc: 0.5246 - val_loss: 1.5240 - val_acc: 0.4688\n",
      "Epoch 9/50\n",
      "50000/50000 [==============================] - 6s 124us/step - loss: 1.3403 - acc: 0.5379 - val_loss: 1.5075 - val_acc: 0.4684\n",
      "Epoch 10/50\n",
      "50000/50000 [==============================] - 6s 122us/step - loss: 1.3103 - acc: 0.5473 - val_loss: 1.5014 - val_acc: 0.4704\n",
      "Epoch 11/50\n",
      "50000/50000 [==============================] - 6s 129us/step - loss: 1.2825 - acc: 0.5569 - val_loss: 1.4918 - val_acc: 0.4725\n",
      "Epoch 12/50\n",
      "50000/50000 [==============================] - 6s 128us/step - loss: 1.2555 - acc: 0.5692 - val_loss: 1.4857 - val_acc: 0.4786\n",
      "Epoch 13/50\n",
      "50000/50000 [==============================] - 6s 123us/step - loss: 1.2304 - acc: 0.5780 - val_loss: 1.4804 - val_acc: 0.4799\n",
      "Epoch 14/50\n",
      "50000/50000 [==============================] - 6s 119us/step - loss: 1.2045 - acc: 0.5861 - val_loss: 1.4754 - val_acc: 0.4828\n",
      "Epoch 15/50\n",
      "50000/50000 [==============================] - 6s 119us/step - loss: 1.1812 - acc: 0.5971 - val_loss: 1.4679 - val_acc: 0.4890\n",
      "Epoch 16/50\n",
      "50000/50000 [==============================] - 6s 114us/step - loss: 1.1592 - acc: 0.6048 - val_loss: 1.4633 - val_acc: 0.4872\n",
      "Epoch 17/50\n",
      "50000/50000 [==============================] - 6s 117us/step - loss: 1.1335 - acc: 0.6139 - val_loss: 1.4561 - val_acc: 0.4888\n",
      "Epoch 18/50\n",
      "50000/50000 [==============================] - 6s 125us/step - loss: 1.1120 - acc: 0.6217 - val_loss: 1.4552 - val_acc: 0.4920\n",
      "Epoch 19/50\n",
      "50000/50000 [==============================] - 6s 120us/step - loss: 1.0892 - acc: 0.6310 - val_loss: 1.4503 - val_acc: 0.4934\n",
      "Epoch 20/50\n",
      "50000/50000 [==============================] - 6s 114us/step - loss: 1.0684 - acc: 0.6400 - val_loss: 1.4525 - val_acc: 0.4907\n",
      "Epoch 21/50\n",
      "50000/50000 [==============================] - 6s 114us/step - loss: 1.0467 - acc: 0.6451 - val_loss: 1.4570 - val_acc: 0.4918\n",
      "Epoch 22/50\n",
      "50000/50000 [==============================] - 6s 121us/step - loss: 1.0263 - acc: 0.6539 - val_loss: 1.4560 - val_acc: 0.4913\n",
      "Epoch 23/50\n",
      "50000/50000 [==============================] - 6s 114us/step - loss: 1.0049 - acc: 0.6631 - val_loss: 1.4643 - val_acc: 0.4903\n",
      "Epoch 24/50\n",
      "50000/50000 [==============================] - 7s 138us/step - loss: 0.9829 - acc: 0.6717 - val_loss: 1.4505 - val_acc: 0.4981\n",
      "Epoch 25/50\n",
      "50000/50000 [==============================] - 7s 133us/step - loss: 0.9635 - acc: 0.6772 - val_loss: 1.4673 - val_acc: 0.4971\n",
      "Epoch 26/50\n",
      "50000/50000 [==============================] - 6s 111us/step - loss: 0.9444 - acc: 0.6855 - val_loss: 1.4547 - val_acc: 0.5001\n",
      "Epoch 27/50\n",
      "50000/50000 [==============================] - 6s 117us/step - loss: 0.9211 - acc: 0.6947 - val_loss: 1.4621 - val_acc: 0.4984\n",
      "Epoch 28/50\n",
      "50000/50000 [==============================] - 6s 117us/step - loss: 0.9027 - acc: 0.7009 - val_loss: 1.4711 - val_acc: 0.4974\n",
      "Epoch 29/50\n",
      "50000/50000 [==============================] - 6s 118us/step - loss: 0.8830 - acc: 0.7081 - val_loss: 1.4844 - val_acc: 0.4951\n",
      "Epoch 30/50\n",
      "50000/50000 [==============================] - 6s 116us/step - loss: 0.8624 - acc: 0.7192 - val_loss: 1.4840 - val_acc: 0.4952\n",
      "Epoch 31/50\n",
      "50000/50000 [==============================] - 6s 121us/step - loss: 0.8432 - acc: 0.7248 - val_loss: 1.4854 - val_acc: 0.4992\n",
      "Epoch 32/50\n",
      "50000/50000 [==============================] - 7s 137us/step - loss: 0.8239 - acc: 0.7332 - val_loss: 1.4946 - val_acc: 0.4974\n",
      "Epoch 33/50\n",
      "50000/50000 [==============================] - 7s 140us/step - loss: 0.8041 - acc: 0.7388 - val_loss: 1.5008 - val_acc: 0.4908\n",
      "Epoch 34/50\n",
      "50000/50000 [==============================] - 7s 138us/step - loss: 0.7842 - acc: 0.7471 - val_loss: 1.5062 - val_acc: 0.4981\n",
      "Epoch 35/50\n",
      "50000/50000 [==============================] - 7s 139us/step - loss: 0.7659 - acc: 0.7544 - val_loss: 1.5147 - val_acc: 0.4984\n",
      "Epoch 36/50\n",
      "50000/50000 [==============================] - 7s 137us/step - loss: 0.7467 - acc: 0.7629 - val_loss: 1.5296 - val_acc: 0.4912\n",
      "Epoch 37/50\n",
      "50000/50000 [==============================] - 7s 138us/step - loss: 0.7289 - acc: 0.7700 - val_loss: 1.5202 - val_acc: 0.4993\n",
      "Epoch 38/50\n",
      "50000/50000 [==============================] - 7s 135us/step - loss: 0.7109 - acc: 0.7763 - val_loss: 1.5488 - val_acc: 0.4924\n",
      "Epoch 39/50\n",
      "50000/50000 [==============================] - 7s 138us/step - loss: 0.6927 - acc: 0.7838 - val_loss: 1.5387 - val_acc: 0.4962\n",
      "Epoch 40/50\n",
      "50000/50000 [==============================] - 7s 137us/step - loss: 0.6737 - acc: 0.7917 - val_loss: 1.5525 - val_acc: 0.4976\n",
      "Epoch 41/50\n",
      "50000/50000 [==============================] - 7s 139us/step - loss: 0.6565 - acc: 0.7990 - val_loss: 1.5759 - val_acc: 0.4931\n",
      "Epoch 42/50\n",
      "50000/50000 [==============================] - 6s 123us/step - loss: 0.6391 - acc: 0.8061 - val_loss: 1.5856 - val_acc: 0.4941\n",
      "Epoch 43/50\n",
      "50000/50000 [==============================] - 7s 138us/step - loss: 0.6203 - acc: 0.8136 - val_loss: 1.6143 - val_acc: 0.4898\n",
      "Epoch 44/50\n",
      "50000/50000 [==============================] - 7s 139us/step - loss: 0.6030 - acc: 0.8204 - val_loss: 1.6064 - val_acc: 0.4896\n",
      "Epoch 45/50\n",
      "50000/50000 [==============================] - 7s 137us/step - loss: 0.5844 - acc: 0.8264 - val_loss: 1.6133 - val_acc: 0.4918\n",
      "Epoch 46/50\n",
      "50000/50000 [==============================] - 7s 136us/step - loss: 0.5670 - acc: 0.8350 - val_loss: 1.6220 - val_acc: 0.4914\n",
      "Epoch 47/50\n",
      "50000/50000 [==============================] - 7s 142us/step - loss: 0.5492 - acc: 0.8396 - val_loss: 1.6284 - val_acc: 0.4925\n",
      "Epoch 48/50\n",
      "50000/50000 [==============================] - 7s 144us/step - loss: 0.5325 - acc: 0.8467 - val_loss: 1.6575 - val_acc: 0.4865\n",
      "Epoch 49/50\n"
     ]
    },
    {
     "name": "stdout",
     "output_type": "stream",
     "text": [
      "50000/50000 [==============================] - 7s 137us/step - loss: 0.5171 - acc: 0.8530 - val_loss: 1.6710 - val_acc: 0.4844\n",
      "Epoch 50/50\n",
      "50000/50000 [==============================] - 7s 133us/step - loss: 0.5019 - acc: 0.8578 - val_loss: 1.6885 - val_acc: 0.4823\n",
      "10000/10000 [==============================] - 1s 118us/step\n"
     ]
    }
   ],
   "source": [
    "# 載入 Callbacks\n",
    "\"\"\"Code Here\n",
    "設定 callbacks: model checkpoint\n",
    "\"\"\"\n",
    "from keras.callbacks import ModelCheckpoint\n",
    "\n",
    "model_ckpt = ModelCheckpoint(filepath=\"./tmp.h5\", \n",
    "                             monitor=\"val_loss\", \n",
    "                             save_best_only=False)\n",
    "\n",
    "results = {}\n",
    "\"\"\"Code Here\n",
    "撰寫你的訓練流程並將結果用 dictionary 紀錄\n",
    "\"\"\"\n",
    "model = build_mlp(input_shape=x_train.shape[1:])\n",
    "model.summary()\n",
    "optimizer = keras.optimizers.SGD(lr=LEARNING_RATE, nesterov=True, momentum=MOMENTUM)\n",
    "model.compile(loss=\"categorical_crossentropy\", metrics=[\"accuracy\"], optimizer=optimizer)\n",
    "\n",
    "model.fit(x_train, y_train, \n",
    "          epochs=EPOCHS, \n",
    "          batch_size=BATCH_SIZE, \n",
    "          validation_data=(x_test, y_test), \n",
    "          shuffle=True,\n",
    "          callbacks=[model_ckpt]\n",
    "         )\n",
    "\n",
    "# Collect results\n",
    "train_loss = model.history.history[\"loss\"]\n",
    "valid_loss = model.history.history[\"val_loss\"]\n",
    "train_acc = model.history.history[\"acc\"]\n",
    "valid_acc = model.history.history[\"val_acc\"]\n",
    "\n",
    "# Load back\n",
    "model = keras.models.load_model(\"./tmp.h5\")\n",
    "loss_loadback, acc_loadback = model.evaluate(x_test, y_test)"
   ]
  },
  {
   "cell_type": "code",
   "execution_count": 8,
   "metadata": {
    "scrolled": true
   },
   "outputs": [
    {
     "data": {
      "image/png": "[encoded data removed]",
      "text/plain": [
       "<Figure size 432x288 with 1 Axes>"
      ]
     },
     "metadata": {
      "needs_background": "light"
     },
     "output_type": "display_data"
    },
    {
     "data": {
      "image/png": "[encoded data removed]",
      "text/plain": [
       "<Figure size 432x288 with 1 Axes>"
      ]
     },
     "metadata": {
      "needs_background": "light"
     },
     "output_type": "display_data"
    }
   ],
   "source": [
    "import matplotlib.pyplot as plt\n",
    "%matplotlib inline\n",
    "\n",
    "plt.plot(range(len(train_loss)), train_loss, label=\"train loss\")\n",
    "plt.plot(range(len(valid_loss)), valid_loss, label=\"valid loss\")\n",
    "plt.hlines(y=loss_loadback, xmin=0, xmax=len(train_loss), colors='r', linestyles='--')\n",
    "plt.legend()\n",
    "plt.title(\"Loss\")\n",
    "plt.show()\n",
    "\n",
    "plt.plot(range(len(train_acc)), train_acc, label=\"train accuracy\")\n",
    "plt.plot(range(len(valid_acc)), valid_acc, label=\"valid accuracy\")\n",
    "plt.hlines(y=acc_loadback, xmin=0, xmax=len(train_loss), colors='r', linestyles='--')\n",
    "plt.legend()\n",
    "plt.title(\"Accuracy\")\n",
    "plt.show()"
   ]
  },
  {
   "cell_type": "code",
   "execution_count": null,
   "metadata": {},
   "outputs": [],
   "source": []
  }
 ],
 "metadata": {
  "kernelspec": {
   "display_name": "Python 3",
   "language": "python",
   "name": "python3"
  },
  "language_info": {
   "codemirror_mode": {
    "name": "ipython",
    "version": 3
   },
   "file_extension": ".py",
   "mimetype": "text/x-python",
   "name": "python",
   "nbconvert_exporter": "python",
   "pygments_lexer": "ipython3",
   "version": "3.6.7"
  }
 },
 "nbformat": 4,
 "nbformat_minor": 2
}
