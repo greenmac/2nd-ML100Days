{
 "cells": [
  {
   "cell_type": "markdown",
   "metadata": {},
   "source": [
    "## Work\n",
    "1. 請嘗試將 preproc_x 替換成以每筆資料的 min/max 進行標準化至 -1 ~ 1 間，再進行訓練\n",
    "2. 請嘗試將 mlp 疊更深 (e.g 5~10 層)，進行訓練後觀察 learning curve 的走勢\n",
    "3. (optional) 請改用 GPU 進行訓練 (如果你有 GPU 的話)，比較使用 CPU 與 GPU 的訓練速度"
   ]
  },
  {
   "cell_type": "code",
   "execution_count": 1,
   "metadata": {},
   "outputs": [
    {
     "data": {
      "text/plain": [
       "'\\nYour code here (optional)\\n確認硬體資源\\n'"
      ]
     },
     "execution_count": 1,
     "metadata": {},
     "output_type": "execute_result"
    }
   ],
   "source": [
    "## \n",
    "\"\"\"\n",
    "Your code here (optional)\n",
    "確認硬體資源\n",
    "\"\"\"\n"
   ]
  },
  {
   "cell_type": "code",
   "execution_count": 2,
   "metadata": {},
   "outputs": [
    {
     "name": "stderr",
     "output_type": "stream",
     "text": [
      "Using TensorFlow backend.\n"
     ]
    }
   ],
   "source": [
    "import os\n",
    "import keras\n",
    "\n",
    "# 請嘗試設定 GPU：os.environ\n"
   ]
  },
  {
   "cell_type": "code",
   "execution_count": 3,
   "metadata": {},
   "outputs": [],
   "source": [
    "train, test = keras.datasets.cifar10.load_data()"
   ]
  },
  {
   "cell_type": "code",
   "execution_count": 4,
   "metadata": {},
   "outputs": [],
   "source": [
    "## 資料前處理\n",
    "\"\"\"\n",
    "Your code here\n",
    "\"\"\"\n",
    "def preproc_x(x, flatten=True):\n",
    "    x = x / 255.\n",
    "    if flatten:\n",
    "        x = x.reshape((len(x), -1))\n",
    "    return x\n",
    "\n",
    "def preproc_y(y, num_classes=10):\n",
    "    if y.shape[-1] == 1:\n",
    "        y = keras.utils.to_categorical(y, num_classes)\n",
    "    return y"
   ]
  },
  {
   "cell_type": "code",
   "execution_count": 5,
   "metadata": {},
   "outputs": [],
   "source": [
    "x_train, y_train = train\n",
    "x_test, y_test = test\n",
    "\n",
    "# Preproc the inputs\n",
    "x_train = preproc_x(x_train)\n",
    "x_test = preproc_x(x_test)\n",
    "\n",
    "# Preprc the outputs\n",
    "y_train = preproc_y(y_train)\n",
    "y_test = preproc_y(y_test)"
   ]
  },
  {
   "cell_type": "code",
   "execution_count": 6,
   "metadata": {},
   "outputs": [],
   "source": [
    "\"\"\"Code Here\n",
    "建立你的神經網路\n",
    "\"\"\"\n",
    "def build_mlp(input_shape, output_units=10, num_neurons=[512, 256, 128, 64, 32]):\n",
    "    input_layer = keras.layers.Input(input_shape)\n",
    "    \n",
    "    for i, n_units in enumerate(num_neurons):\n",
    "        if i == 0:\n",
    "            x = keras.layers.Dense(units=n_units, activation=\"relu\", name=\"hidden_layer\"+str(i+1))(input_layer)\n",
    "        else:\n",
    "            x = keras.layers.Dense(units=n_units, activation=\"relu\", name=\"hidden_layer\"+str(i+1))(x)\n",
    "    \n",
    "    out = keras.layers.Dense(units=output_units, activation=\"softmax\", name=\"output\")(x)\n",
    "    \n",
    "    model = keras.models.Model(inputs=[input_layer], outputs=[out])\n",
    "    return model"
   ]
  },
  {
   "cell_type": "code",
   "execution_count": 10,
   "metadata": {},
   "outputs": [
    {
     "name": "stdout",
     "output_type": "stream",
     "text": [
      "_________________________________________________________________\n",
      "Layer (type)                 Output Shape              Param #   \n",
      "=================================================================\n",
      "input_1 (InputLayer)         (None, 3072)              0         \n",
      "_________________________________________________________________\n",
      "hidden_layer1 (Dense)        (None, 512)               1573376   \n",
      "_________________________________________________________________\n",
      "hidden_layer2 (Dense)        (None, 256)               131328    \n",
      "_________________________________________________________________\n",
      "hidden_layer3 (Dense)        (None, 128)               32896     \n",
      "_________________________________________________________________\n",
      "hidden_layer4 (Dense)        (None, 64)                8256      \n",
      "_________________________________________________________________\n",
      "hidden_layer5 (Dense)        (None, 32)                2080      \n",
      "_________________________________________________________________\n",
      "output (Dense)               (None, 10)                330       \n",
      "=================================================================\n",
      "Total params: 1,748,266\n",
      "Trainable params: 1,748,266\n",
      "Non-trainable params: 0\n",
      "_________________________________________________________________\n"
     ]
    }
   ],
   "source": [
    "model = build_mlp(input_shape=x_train.shape[1:])\n",
    "model.summary()"
   ]
  },
  {
   "cell_type": "code",
   "execution_count": 11,
   "metadata": {},
   "outputs": [],
   "source": [
    "## 超參數設定\n",
    "LEARNING_RATE = 0.001\n",
    "EPOCHS = 100\n",
    "BATCH_SIZE = 256"
   ]
  },
  {
   "cell_type": "code",
   "execution_count": 12,
   "metadata": {},
   "outputs": [],
   "source": [
    "optimizer = keras.optimizers.Adam(lr=LEARNING_RATE)\n",
    "model.compile(loss=\"categorical_crossentropy\", metrics=[\"accuracy\"], optimizer=optimizer)"
   ]
  },
  {
   "cell_type": "code",
   "execution_count": 13,
   "metadata": {},
   "outputs": [
    {
     "name": "stdout",
     "output_type": "stream",
     "text": [
      "Train on 50000 samples, validate on 10000 samples\n",
      "Epoch 1/100\n",
      "50000/50000 [==============================] - 10s 193us/step - loss: 1.9872 - acc: 0.2633 - val_loss: 1.8310 - val_acc: 0.3426\n",
      "Epoch 2/100\n",
      "50000/50000 [==============================] - 9s 187us/step - loss: 1.7461 - acc: 0.3698 - val_loss: 1.7241 - val_acc: 0.3794\n",
      "Epoch 3/100\n",
      "50000/50000 [==============================] - 10s 208us/step - loss: 1.6604 - acc: 0.4012 - val_loss: 1.6565 - val_acc: 0.4029\n",
      "Epoch 4/100\n",
      "50000/50000 [==============================] - 10s 195us/step - loss: 1.5831 - acc: 0.4304 - val_loss: 1.5523 - val_acc: 0.4448\n",
      "Epoch 5/100\n",
      "50000/50000 [==============================] - 10s 205us/step - loss: 1.5329 - acc: 0.4520 - val_loss: 1.5647 - val_acc: 0.4468\n",
      "Epoch 6/100\n",
      "50000/50000 [==============================] - 10s 193us/step - loss: 1.4971 - acc: 0.4646 - val_loss: 1.4803 - val_acc: 0.4706\n",
      "Epoch 7/100\n",
      "50000/50000 [==============================] - 10s 191us/step - loss: 1.4479 - acc: 0.4839 - val_loss: 1.5045 - val_acc: 0.4660\n",
      "Epoch 8/100\n",
      "50000/50000 [==============================] - 9s 190us/step - loss: 1.4258 - acc: 0.4908 - val_loss: 1.4747 - val_acc: 0.4760\n",
      "Epoch 9/100\n",
      "50000/50000 [==============================] - 10s 191us/step - loss: 1.4018 - acc: 0.5008 - val_loss: 1.4657 - val_acc: 0.4781\n",
      "Epoch 10/100\n",
      "50000/50000 [==============================] - 10s 192us/step - loss: 1.3749 - acc: 0.5098 - val_loss: 1.4836 - val_acc: 0.4751\n",
      "Epoch 11/100\n",
      "50000/50000 [==============================] - 10s 191us/step - loss: 1.3458 - acc: 0.5208 - val_loss: 1.4621 - val_acc: 0.4794\n",
      "Epoch 12/100\n",
      "50000/50000 [==============================] - 9s 190us/step - loss: 1.3219 - acc: 0.5297 - val_loss: 1.4026 - val_acc: 0.5048\n",
      "Epoch 13/100\n",
      "50000/50000 [==============================] - 10s 195us/step - loss: 1.2933 - acc: 0.5388 - val_loss: 1.4357 - val_acc: 0.4894\n",
      "Epoch 14/100\n",
      "50000/50000 [==============================] - 10s 193us/step - loss: 1.2773 - acc: 0.5444 - val_loss: 1.3953 - val_acc: 0.5067\n",
      "Epoch 15/100\n",
      "50000/50000 [==============================] - 9s 190us/step - loss: 1.2561 - acc: 0.5529 - val_loss: 1.3941 - val_acc: 0.5058\n",
      "Epoch 16/100\n",
      "50000/50000 [==============================] - 10s 192us/step - loss: 1.2307 - acc: 0.5590 - val_loss: 1.3671 - val_acc: 0.5163\n",
      "Epoch 17/100\n",
      "50000/50000 [==============================] - 10s 193us/step - loss: 1.2026 - acc: 0.5692 - val_loss: 1.3514 - val_acc: 0.5203\n",
      "Epoch 18/100\n",
      "50000/50000 [==============================] - 9s 190us/step - loss: 1.1942 - acc: 0.5732 - val_loss: 1.4019 - val_acc: 0.5035\n",
      "Epoch 19/100\n",
      "50000/50000 [==============================] - 9s 184us/step - loss: 1.1694 - acc: 0.5826 - val_loss: 1.3587 - val_acc: 0.5235\n",
      "Epoch 20/100\n",
      "50000/50000 [==============================] - 9s 181us/step - loss: 1.1443 - acc: 0.5901 - val_loss: 1.3605 - val_acc: 0.5248\n",
      "Epoch 21/100\n",
      "50000/50000 [==============================] - 9s 190us/step - loss: 1.1221 - acc: 0.6010 - val_loss: 1.4255 - val_acc: 0.5124\n",
      "Epoch 22/100\n",
      "50000/50000 [==============================] - 9s 183us/step - loss: 1.1050 - acc: 0.6061 - val_loss: 1.3858 - val_acc: 0.5216\n",
      "Epoch 23/100\n",
      "50000/50000 [==============================] - 9s 186us/step - loss: 1.0854 - acc: 0.6112 - val_loss: 1.4032 - val_acc: 0.5143\n",
      "Epoch 24/100\n",
      "50000/50000 [==============================] - 9s 189us/step - loss: 1.0732 - acc: 0.6152 - val_loss: 1.3968 - val_acc: 0.5252\n",
      "Epoch 25/100\n",
      "50000/50000 [==============================] - 9s 187us/step - loss: 1.0472 - acc: 0.6244 - val_loss: 1.4198 - val_acc: 0.5161\n",
      "Epoch 26/100\n",
      "50000/50000 [==============================] - 9s 183us/step - loss: 1.0291 - acc: 0.6342 - val_loss: 1.4031 - val_acc: 0.5176\n",
      "Epoch 27/100\n",
      "50000/50000 [==============================] - 9s 187us/step - loss: 1.0084 - acc: 0.6415 - val_loss: 1.4054 - val_acc: 0.5248\n",
      "Epoch 28/100\n",
      "50000/50000 [==============================] - 10s 195us/step - loss: 0.9951 - acc: 0.6438 - val_loss: 1.4319 - val_acc: 0.5199\n",
      "Epoch 29/100\n",
      "50000/50000 [==============================] - 9s 190us/step - loss: 0.9702 - acc: 0.6523 - val_loss: 1.4314 - val_acc: 0.5268\n",
      "Epoch 30/100\n",
      "50000/50000 [==============================] - 10s 195us/step - loss: 0.9606 - acc: 0.6553 - val_loss: 1.4146 - val_acc: 0.5329\n",
      "Epoch 31/100\n",
      "50000/50000 [==============================] - 10s 191us/step - loss: 0.9472 - acc: 0.6604 - val_loss: 1.4670 - val_acc: 0.5180\n",
      "Epoch 32/100\n",
      "50000/50000 [==============================] - 10s 195us/step - loss: 0.9216 - acc: 0.6699 - val_loss: 1.5023 - val_acc: 0.5214\n",
      "Epoch 33/100\n",
      "50000/50000 [==============================] - 10s 192us/step - loss: 0.9003 - acc: 0.6784 - val_loss: 1.4580 - val_acc: 0.5261\n",
      "Epoch 34/100\n",
      "50000/50000 [==============================] - 10s 195us/step - loss: 0.8914 - acc: 0.6800 - val_loss: 1.4794 - val_acc: 0.5268\n",
      "Epoch 35/100\n",
      "50000/50000 [==============================] - 10s 197us/step - loss: 0.8637 - acc: 0.6895 - val_loss: 1.4861 - val_acc: 0.5237\n",
      "Epoch 36/100\n",
      "50000/50000 [==============================] - 10s 195us/step - loss: 0.8430 - acc: 0.6996 - val_loss: 1.4890 - val_acc: 0.5285\n",
      "Epoch 37/100\n",
      "50000/50000 [==============================] - 10s 201us/step - loss: 0.8364 - acc: 0.6995 - val_loss: 1.5651 - val_acc: 0.5168\n",
      "Epoch 38/100\n",
      "50000/50000 [==============================] - 10s 197us/step - loss: 0.8262 - acc: 0.7036 - val_loss: 1.5384 - val_acc: 0.5297\n",
      "Epoch 39/100\n",
      "50000/50000 [==============================] - 10s 191us/step - loss: 0.8038 - acc: 0.7118 - val_loss: 1.5797 - val_acc: 0.5188\n",
      "Epoch 40/100\n",
      "50000/50000 [==============================] - 10s 194us/step - loss: 0.7921 - acc: 0.7158 - val_loss: 1.5691 - val_acc: 0.5254\n",
      "Epoch 41/100\n",
      "50000/50000 [==============================] - 10s 199us/step - loss: 0.7767 - acc: 0.7189 - val_loss: 1.6051 - val_acc: 0.5248\n",
      "Epoch 42/100\n",
      "50000/50000 [==============================] - 10s 200us/step - loss: 0.7572 - acc: 0.7290 - val_loss: 1.6435 - val_acc: 0.5220\n",
      "Epoch 43/100\n",
      "50000/50000 [==============================] - 10s 190us/step - loss: 0.7478 - acc: 0.7304 - val_loss: 1.6564 - val_acc: 0.5156\n",
      "Epoch 44/100\n",
      "50000/50000 [==============================] - 9s 185us/step - loss: 0.7201 - acc: 0.7425 - val_loss: 1.6916 - val_acc: 0.5217\n",
      "Epoch 45/100\n",
      "50000/50000 [==============================] - 9s 188us/step - loss: 0.7054 - acc: 0.7458 - val_loss: 1.7233 - val_acc: 0.5152\n",
      "Epoch 46/100\n",
      "50000/50000 [==============================] - 10s 192us/step - loss: 0.6982 - acc: 0.7472 - val_loss: 1.7923 - val_acc: 0.5145\n",
      "Epoch 47/100\n",
      "50000/50000 [==============================] - 9s 187us/step - loss: 0.6847 - acc: 0.7526 - val_loss: 1.7559 - val_acc: 0.5199\n",
      "Epoch 48/100\n",
      "50000/50000 [==============================] - 9s 187us/step - loss: 0.6666 - acc: 0.7598 - val_loss: 1.7229 - val_acc: 0.5184\n",
      "Epoch 49/100\n",
      "50000/50000 [==============================] - 9s 188us/step - loss: 0.6712 - acc: 0.7585 - val_loss: 1.7151 - val_acc: 0.5216\n",
      "Epoch 50/100\n",
      "50000/50000 [==============================] - 9s 187us/step - loss: 0.6429 - acc: 0.7680 - val_loss: 1.8411 - val_acc: 0.5157\n",
      "Epoch 51/100\n",
      "50000/50000 [==============================] - 9s 187us/step - loss: 0.6457 - acc: 0.7668 - val_loss: 1.8078 - val_acc: 0.5207\n",
      "Epoch 52/100\n",
      "50000/50000 [==============================] - 10s 190us/step - loss: 0.6192 - acc: 0.7756 - val_loss: 1.8315 - val_acc: 0.5104\n",
      "Epoch 53/100\n",
      "50000/50000 [==============================] - 10s 195us/step - loss: 0.6135 - acc: 0.7792 - val_loss: 1.8608 - val_acc: 0.5244\n",
      "Epoch 54/100\n",
      "50000/50000 [==============================] - 10s 194us/step - loss: 0.5923 - acc: 0.7876 - val_loss: 1.9613 - val_acc: 0.5145\n",
      "Epoch 55/100\n",
      "50000/50000 [==============================] - 10s 192us/step - loss: 0.5922 - acc: 0.7873 - val_loss: 1.9749 - val_acc: 0.5136\n",
      "Epoch 56/100\n",
      "50000/50000 [==============================] - 10s 196us/step - loss: 0.5634 - acc: 0.7990 - val_loss: 1.9825 - val_acc: 0.5122\n",
      "Epoch 57/100\n",
      "50000/50000 [==============================] - 10s 196us/step - loss: 0.5691 - acc: 0.7928 - val_loss: 1.9682 - val_acc: 0.5251\n",
      "Epoch 58/100\n",
      "50000/50000 [==============================] - 12s 235us/step - loss: 0.5674 - acc: 0.7967 - val_loss: 2.0168 - val_acc: 0.5166\n"
     ]
    },
    {
     "name": "stdout",
     "output_type": "stream",
     "text": [
      "Epoch 59/100\n",
      "50000/50000 [==============================] - 9s 189us/step - loss: 0.5420 - acc: 0.8046 - val_loss: 2.0159 - val_acc: 0.5081\n",
      "Epoch 60/100\n",
      "50000/50000 [==============================] - 9s 188us/step - loss: 0.5355 - acc: 0.8064 - val_loss: 2.0547 - val_acc: 0.5198\n",
      "Epoch 61/100\n",
      "50000/50000 [==============================] - 9s 184us/step - loss: 0.5286 - acc: 0.8097 - val_loss: 2.0238 - val_acc: 0.5156\n",
      "Epoch 62/100\n",
      "50000/50000 [==============================] - 9s 186us/step - loss: 0.5044 - acc: 0.8189 - val_loss: 2.1095 - val_acc: 0.5103\n",
      "Epoch 63/100\n",
      "50000/50000 [==============================] - 9s 185us/step - loss: 0.4942 - acc: 0.8213 - val_loss: 2.1857 - val_acc: 0.5132\n",
      "Epoch 64/100\n",
      "50000/50000 [==============================] - 9s 184us/step - loss: 0.5119 - acc: 0.8163 - val_loss: 2.0814 - val_acc: 0.5200\n",
      "Epoch 65/100\n",
      "50000/50000 [==============================] - 9s 185us/step - loss: 0.4963 - acc: 0.8207 - val_loss: 2.1599 - val_acc: 0.5180\n",
      "Epoch 66/100\n",
      "50000/50000 [==============================] - 9s 184us/step - loss: 0.4656 - acc: 0.8311 - val_loss: 2.2449 - val_acc: 0.5203\n",
      "Epoch 67/100\n",
      "50000/50000 [==============================] - 9s 187us/step - loss: 0.4867 - acc: 0.8233 - val_loss: 2.2263 - val_acc: 0.5042\n",
      "Epoch 68/100\n",
      "50000/50000 [==============================] - 9s 189us/step - loss: 0.4718 - acc: 0.8302 - val_loss: 2.3472 - val_acc: 0.5139\n",
      "Epoch 69/100\n",
      "50000/50000 [==============================] - 9s 180us/step - loss: 0.4614 - acc: 0.8327 - val_loss: 2.3409 - val_acc: 0.5098\n",
      "Epoch 70/100\n",
      "50000/50000 [==============================] - 9s 187us/step - loss: 0.4420 - acc: 0.8390 - val_loss: 2.2958 - val_acc: 0.5176\n",
      "Epoch 71/100\n",
      "50000/50000 [==============================] - 9s 186us/step - loss: 0.4530 - acc: 0.8356 - val_loss: 2.3626 - val_acc: 0.5011\n",
      "Epoch 72/100\n",
      "50000/50000 [==============================] - 9s 183us/step - loss: 0.4322 - acc: 0.8435 - val_loss: 2.4117 - val_acc: 0.5161\n",
      "Epoch 73/100\n",
      "50000/50000 [==============================] - 9s 184us/step - loss: 0.4327 - acc: 0.8432 - val_loss: 2.3899 - val_acc: 0.5079\n",
      "Epoch 74/100\n",
      "50000/50000 [==============================] - 9s 179us/step - loss: 0.4142 - acc: 0.8504 - val_loss: 2.5901 - val_acc: 0.5054\n",
      "Epoch 75/100\n",
      "50000/50000 [==============================] - 9s 178us/step - loss: 0.4160 - acc: 0.8491 - val_loss: 2.4331 - val_acc: 0.5140\n",
      "Epoch 76/100\n",
      "50000/50000 [==============================] - 9s 179us/step - loss: 0.4153 - acc: 0.8494 - val_loss: 2.5090 - val_acc: 0.5090\n",
      "Epoch 77/100\n",
      "50000/50000 [==============================] - 9s 181us/step - loss: 0.3862 - acc: 0.8617 - val_loss: 2.5338 - val_acc: 0.5098\n",
      "Epoch 78/100\n",
      "50000/50000 [==============================] - 9s 189us/step - loss: 0.3830 - acc: 0.8618 - val_loss: 2.5956 - val_acc: 0.5135\n",
      "Epoch 79/100\n",
      "50000/50000 [==============================] - 10s 190us/step - loss: 0.4036 - acc: 0.8537 - val_loss: 2.5444 - val_acc: 0.5040\n",
      "Epoch 80/100\n",
      "50000/50000 [==============================] - 9s 186us/step - loss: 0.3850 - acc: 0.8608 - val_loss: 2.6013 - val_acc: 0.5086\n",
      "Epoch 81/100\n",
      "50000/50000 [==============================] - 10s 190us/step - loss: 0.3682 - acc: 0.8682 - val_loss: 2.6864 - val_acc: 0.5097\n",
      "Epoch 82/100\n",
      "50000/50000 [==============================] - 9s 188us/step - loss: 0.4052 - acc: 0.8543 - val_loss: 2.6174 - val_acc: 0.5084\n",
      "Epoch 83/100\n",
      "50000/50000 [==============================] - 9s 189us/step - loss: 0.3501 - acc: 0.8743 - val_loss: 2.7524 - val_acc: 0.5011\n",
      "Epoch 84/100\n",
      "50000/50000 [==============================] - 10s 192us/step - loss: 0.3650 - acc: 0.8672 - val_loss: 2.7261 - val_acc: 0.5012\n",
      "Epoch 85/100\n",
      "50000/50000 [==============================] - 9s 187us/step - loss: 0.3525 - acc: 0.8734 - val_loss: 2.7465 - val_acc: 0.5054\n",
      "Epoch 86/100\n",
      "50000/50000 [==============================] - 10s 191us/step - loss: 0.3659 - acc: 0.8685 - val_loss: 2.7121 - val_acc: 0.5035\n",
      "Epoch 87/100\n",
      "50000/50000 [==============================] - 9s 187us/step - loss: 0.3389 - acc: 0.8779 - val_loss: 2.8741 - val_acc: 0.5002\n",
      "Epoch 88/100\n",
      "50000/50000 [==============================] - 9s 189us/step - loss: 0.3569 - acc: 0.8709 - val_loss: 2.7088 - val_acc: 0.5114\n",
      "Epoch 89/100\n",
      "50000/50000 [==============================] - 9s 189us/step - loss: 0.3459 - acc: 0.8757 - val_loss: 2.7856 - val_acc: 0.4986\n",
      "Epoch 90/100\n",
      "50000/50000 [==============================] - 9s 190us/step - loss: 0.3359 - acc: 0.8800 - val_loss: 2.8791 - val_acc: 0.5068\n",
      "Epoch 91/100\n",
      "50000/50000 [==============================] - 10s 194us/step - loss: 0.3331 - acc: 0.8820 - val_loss: 2.9319 - val_acc: 0.5024\n",
      "Epoch 92/100\n",
      "50000/50000 [==============================] - 10s 191us/step - loss: 0.3287 - acc: 0.8808 - val_loss: 2.8737 - val_acc: 0.5003\n",
      "Epoch 93/100\n",
      "50000/50000 [==============================] - 10s 196us/step - loss: 0.3393 - acc: 0.8778 - val_loss: 2.7672 - val_acc: 0.5059\n",
      "Epoch 94/100\n",
      "50000/50000 [==============================] - 9s 186us/step - loss: 0.3176 - acc: 0.8868 - val_loss: 2.9161 - val_acc: 0.5050\n",
      "Epoch 95/100\n",
      "50000/50000 [==============================] - 9s 180us/step - loss: 0.3113 - acc: 0.8888 - val_loss: 2.9311 - val_acc: 0.5074\n",
      "Epoch 96/100\n",
      "50000/50000 [==============================] - 9s 181us/step - loss: 0.3064 - acc: 0.8915 - val_loss: 2.9646 - val_acc: 0.5035\n",
      "Epoch 97/100\n",
      "50000/50000 [==============================] - 9s 186us/step - loss: 0.3024 - acc: 0.8932 - val_loss: 3.0582 - val_acc: 0.5054\n",
      "Epoch 98/100\n",
      "50000/50000 [==============================] - 9s 187us/step - loss: 0.2998 - acc: 0.8931 - val_loss: 2.9876 - val_acc: 0.5070\n",
      "Epoch 99/100\n",
      "50000/50000 [==============================] - 9s 184us/step - loss: 0.2857 - acc: 0.8971 - val_loss: 2.9743 - val_acc: 0.5010\n",
      "Epoch 100/100\n",
      "50000/50000 [==============================] - 9s 188us/step - loss: 0.3376 - acc: 0.8792 - val_loss: 2.9941 - val_acc: 0.4994\n"
     ]
    },
    {
     "data": {
      "text/plain": [
       "<keras.callbacks.History at 0x2fb2488cb00>"
      ]
     },
     "execution_count": 13,
     "metadata": {},
     "output_type": "execute_result"
    }
   ],
   "source": [
    "model.fit(x_train, y_train, \n",
    "          epochs=EPOCHS, \n",
    "          batch_size=BATCH_SIZE, \n",
    "          validation_data=(x_test, y_test), \n",
    "          shuffle=True)"
   ]
  },
  {
   "cell_type": "code",
   "execution_count": 15,
   "metadata": {},
   "outputs": [
    {
     "data": {
      "image/png": "[encoded data removed]",
      "text/plain": [
       "<Figure size 432x288 with 1 Axes>"
      ]
     },
     "metadata": {
      "needs_background": "light"
     },
     "output_type": "display_data"
    },
    {
     "data": {
      "image/png": "[encoded data removed]",
      "text/plain": [
       "<Figure size 432x288 with 1 Axes>"
      ]
     },
     "metadata": {
      "needs_background": "light"
     },
     "output_type": "display_data"
    }
   ],
   "source": [
    "import matplotlib.pyplot as plt\n",
    "\n",
    "\n",
    "train_loss = model.history.history[\"loss\"]\n",
    "valid_loss = model.history.history[\"val_loss\"]\n",
    "\n",
    "train_acc = model.history.history[\"acc\"]\n",
    "valid_acc = model.history.history[\"val_acc\"]\n",
    "\n",
    "plt.plot(range(len(train_loss)), train_loss, label=\"train loss\")\n",
    "plt.plot(range(len(valid_loss)), valid_loss, label=\"valid loss\")\n",
    "plt.legend()\n",
    "plt.title(\"Loss\")\n",
    "plt.show()\n",
    "\n",
    "plt.plot(range(len(train_acc)), train_acc, label=\"train accuracy\")\n",
    "plt.plot(range(len(valid_acc)), valid_acc, label=\"valid accuracy\")\n",
    "plt.legend()\n",
    "plt.title(\"Accuracy\")\n",
    "plt.show()"
   ]
  },
  {
   "cell_type": "code",
   "execution_count": null,
   "metadata": {},
   "outputs": [],
   "source": []
  }
 ],
 "metadata": {
  "kernelspec": {
   "display_name": "Python 3",
   "language": "python",
   "name": "python3"
  },
  "language_info": {
   "codemirror_mode": {
    "name": "ipython",
    "version": 3
   },
   "file_extension": ".py",
   "mimetype": "text/x-python",
   "name": "python",
   "nbconvert_exporter": "python",
   "pygments_lexer": "ipython3",
   "version": "3.6.7"
  }
 },
 "nbformat": 4,
 "nbformat_minor": 2
}
